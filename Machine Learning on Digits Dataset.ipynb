{
 "cells": [
  {
   "cell_type": "code",
   "execution_count": 1,
   "id": "53ea6510-2210-426b-b7e0-e8adf05dd158",
   "metadata": {},
   "outputs": [],
   "source": [
    "import pandas as pd\n",
    "import numpy as np\n",
    "import seaborn as sns\n",
    "import matplotlib.pyplot as plt"
   ]
  },
  {
   "cell_type": "code",
   "execution_count": 2,
   "id": "78e21f39-5b7d-4abb-a878-cedb1db82469",
   "metadata": {},
   "outputs": [],
   "source": [
    "from sklearn.datasets import load_digits\n",
    "\n",
    "digits = load_digits()"
   ]
  },
  {
   "cell_type": "code",
   "execution_count": 3,
   "id": "1e35324a-aad8-4995-a92a-e35ef2a04993",
   "metadata": {},
   "outputs": [
    {
     "data": {
      "text/plain": [
       "['DESCR', 'data', 'feature_names', 'frame', 'images', 'target', 'target_names']"
      ]
     },
     "execution_count": 3,
     "metadata": {},
     "output_type": "execute_result"
    }
   ],
   "source": [
    "dir(digits)"
   ]
  },
  {
   "cell_type": "code",
   "execution_count": 4,
   "id": "221d259f-d6df-4c7c-a449-4d265b358f70",
   "metadata": {},
   "outputs": [
    {
     "data": {
      "text/plain": [
       "<Figure size 432x288 with 0 Axes>"
      ]
     },
     "metadata": {},
     "output_type": "display_data"
    },
    {
     "data": {
      "image/png": "[encoded data removed]",
      "text/plain": [
       "<Figure size 288x288 with 1 Axes>"
      ]
     },
     "metadata": {
      "needs_background": "light"
     },
     "output_type": "display_data"
    },
    {
     "data": {
      "image/png": "[encoded data removed]",
      "text/plain": [
       "<Figure size 288x288 with 1 Axes>"
      ]
     },
     "metadata": {
      "needs_background": "light"
     },
     "output_type": "display_data"
    },
    {
     "data": {
      "image/png": "[encoded data removed]",
      "text/plain": [
       "<Figure size 288x288 with 1 Axes>"
      ]
     },
     "metadata": {
      "needs_background": "light"
     },
     "output_type": "display_data"
    },
    {
     "data": {
      "image/png": "[encoded data removed]",
      "text/plain": [
       "<Figure size 288x288 with 1 Axes>"
      ]
     },
     "metadata": {
      "needs_background": "light"
     },
     "output_type": "display_data"
    }
   ],
   "source": [
    "plt.gray()\n",
    "for i in range(4):\n",
    "    plt.matshow(digits.images[i])"
   ]
  },
  {
   "cell_type": "code",
   "execution_count": 5,
   "id": "100f86e9-3300-453d-9e81-c9cf011c300b",
   "metadata": {},
   "outputs": [
    {
     "data": {
      "text/html": [
       "<div>\n",
       "<style scoped>\n",
       "    .dataframe tbody tr th:only-of-type {\n",
       "        vertical-align: middle;\n",
       "    }\n",
       "\n",
       "    .dataframe tbody tr th {\n",
       "        vertical-align: top;\n",
       "    }\n",
       "\n",
       "    .dataframe thead th {\n",
       "        text-align: right;\n",
       "    }\n",
       "</style>\n",
       "<table border=\"1\" class=\"dataframe\">\n",
       "  <thead>\n",
       "    <tr style=\"text-align: right;\">\n",
       "      <th></th>\n",
       "      <th>0</th>\n",
       "      <th>1</th>\n",
       "      <th>2</th>\n",
       "      <th>3</th>\n",
       "      <th>4</th>\n",
       "      <th>5</th>\n",
       "      <th>6</th>\n",
       "      <th>7</th>\n",
       "      <th>8</th>\n",
       "      <th>9</th>\n",
       "      <th>...</th>\n",
       "      <th>54</th>\n",
       "      <th>55</th>\n",
       "      <th>56</th>\n",
       "      <th>57</th>\n",
       "      <th>58</th>\n",
       "      <th>59</th>\n",
       "      <th>60</th>\n",
       "      <th>61</th>\n",
       "      <th>62</th>\n",
       "      <th>63</th>\n",
       "    </tr>\n",
       "  </thead>\n",
       "  <tbody>\n",
       "    <tr>\n",
       "      <th>0</th>\n",
       "      <td>0.0</td>\n",
       "      <td>0.0</td>\n",
       "      <td>5.0</td>\n",
       "      <td>13.0</td>\n",
       "      <td>9.0</td>\n",
       "      <td>1.0</td>\n",
       "      <td>0.0</td>\n",
       "      <td>0.0</td>\n",
       "      <td>0.0</td>\n",
       "      <td>0.0</td>\n",
       "      <td>...</td>\n",
       "      <td>0.0</td>\n",
       "      <td>0.0</td>\n",
       "      <td>0.0</td>\n",
       "      <td>0.0</td>\n",
       "      <td>6.0</td>\n",
       "      <td>13.0</td>\n",
       "      <td>10.0</td>\n",
       "      <td>0.0</td>\n",
       "      <td>0.0</td>\n",
       "      <td>0.0</td>\n",
       "    </tr>\n",
       "    <tr>\n",
       "      <th>1</th>\n",
       "      <td>0.0</td>\n",
       "      <td>0.0</td>\n",
       "      <td>0.0</td>\n",
       "      <td>12.0</td>\n",
       "      <td>13.0</td>\n",
       "      <td>5.0</td>\n",
       "      <td>0.0</td>\n",
       "      <td>0.0</td>\n",
       "      <td>0.0</td>\n",
       "      <td>0.0</td>\n",
       "      <td>...</td>\n",
       "      <td>0.0</td>\n",
       "      <td>0.0</td>\n",
       "      <td>0.0</td>\n",
       "      <td>0.0</td>\n",
       "      <td>0.0</td>\n",
       "      <td>11.0</td>\n",
       "      <td>16.0</td>\n",
       "      <td>10.0</td>\n",
       "      <td>0.0</td>\n",
       "      <td>0.0</td>\n",
       "    </tr>\n",
       "    <tr>\n",
       "      <th>2</th>\n",
       "      <td>0.0</td>\n",
       "      <td>0.0</td>\n",
       "      <td>0.0</td>\n",
       "      <td>4.0</td>\n",
       "      <td>15.0</td>\n",
       "      <td>12.0</td>\n",
       "      <td>0.0</td>\n",
       "      <td>0.0</td>\n",
       "      <td>0.0</td>\n",
       "      <td>0.0</td>\n",
       "      <td>...</td>\n",
       "      <td>5.0</td>\n",
       "      <td>0.0</td>\n",
       "      <td>0.0</td>\n",
       "      <td>0.0</td>\n",
       "      <td>0.0</td>\n",
       "      <td>3.0</td>\n",
       "      <td>11.0</td>\n",
       "      <td>16.0</td>\n",
       "      <td>9.0</td>\n",
       "      <td>0.0</td>\n",
       "    </tr>\n",
       "    <tr>\n",
       "      <th>3</th>\n",
       "      <td>0.0</td>\n",
       "      <td>0.0</td>\n",
       "      <td>7.0</td>\n",
       "      <td>15.0</td>\n",
       "      <td>13.0</td>\n",
       "      <td>1.0</td>\n",
       "      <td>0.0</td>\n",
       "      <td>0.0</td>\n",
       "      <td>0.0</td>\n",
       "      <td>8.0</td>\n",
       "      <td>...</td>\n",
       "      <td>9.0</td>\n",
       "      <td>0.0</td>\n",
       "      <td>0.0</td>\n",
       "      <td>0.0</td>\n",
       "      <td>7.0</td>\n",
       "      <td>13.0</td>\n",
       "      <td>13.0</td>\n",
       "      <td>9.0</td>\n",
       "      <td>0.0</td>\n",
       "      <td>0.0</td>\n",
       "    </tr>\n",
       "    <tr>\n",
       "      <th>4</th>\n",
       "      <td>0.0</td>\n",
       "      <td>0.0</td>\n",
       "      <td>0.0</td>\n",
       "      <td>1.0</td>\n",
       "      <td>11.0</td>\n",
       "      <td>0.0</td>\n",
       "      <td>0.0</td>\n",
       "      <td>0.0</td>\n",
       "      <td>0.0</td>\n",
       "      <td>0.0</td>\n",
       "      <td>...</td>\n",
       "      <td>0.0</td>\n",
       "      <td>0.0</td>\n",
       "      <td>0.0</td>\n",
       "      <td>0.0</td>\n",
       "      <td>0.0</td>\n",
       "      <td>2.0</td>\n",
       "      <td>16.0</td>\n",
       "      <td>4.0</td>\n",
       "      <td>0.0</td>\n",
       "      <td>0.0</td>\n",
       "    </tr>\n",
       "  </tbody>\n",
       "</table>\n",
       "<p>5 rows × 64 columns</p>\n",
       "</div>"
      ],
      "text/plain": [
       "    0    1    2     3     4     5    6    7    8    9   ...   54   55   56  \\\n",
       "0  0.0  0.0  5.0  13.0   9.0   1.0  0.0  0.0  0.0  0.0  ...  0.0  0.0  0.0   \n",
       "1  0.0  0.0  0.0  12.0  13.0   5.0  0.0  0.0  0.0  0.0  ...  0.0  0.0  0.0   \n",
       "2  0.0  0.0  0.0   4.0  15.0  12.0  0.0  0.0  0.0  0.0  ...  5.0  0.0  0.0   \n",
       "3  0.0  0.0  7.0  15.0  13.0   1.0  0.0  0.0  0.0  8.0  ...  9.0  0.0  0.0   \n",
       "4  0.0  0.0  0.0   1.0  11.0   0.0  0.0  0.0  0.0  0.0  ...  0.0  0.0  0.0   \n",
       "\n",
       "    57   58    59    60    61   62   63  \n",
       "0  0.0  6.0  13.0  10.0   0.0  0.0  0.0  \n",
       "1  0.0  0.0  11.0  16.0  10.0  0.0  0.0  \n",
       "2  0.0  0.0   3.0  11.0  16.0  9.0  0.0  \n",
       "3  0.0  7.0  13.0  13.0   9.0  0.0  0.0  \n",
       "4  0.0  0.0   2.0  16.0   4.0  0.0  0.0  \n",
       "\n",
       "[5 rows x 64 columns]"
      ]
     },
     "execution_count": 5,
     "metadata": {},
     "output_type": "execute_result"
    }
   ],
   "source": [
    "df = pd.DataFrame(digits.data)\n",
    "df.head()"
   ]
  },
  {
   "cell_type": "code",
   "execution_count": 6,
   "id": "06257860-35a6-4318-a0ae-d81c2820d279",
   "metadata": {},
   "outputs": [],
   "source": [
    "df['target']= digits.target"
   ]
  },
  {
   "cell_type": "code",
   "execution_count": 7,
   "id": "825d8d16-141f-467a-9934-e13e4a02192a",
   "metadata": {},
   "outputs": [
    {
     "data": {
      "text/html": [
       "<div>\n",
       "<style scoped>\n",
       "    .dataframe tbody tr th:only-of-type {\n",
       "        vertical-align: middle;\n",
       "    }\n",
       "\n",
       "    .dataframe tbody tr th {\n",
       "        vertical-align: top;\n",
       "    }\n",
       "\n",
       "    .dataframe thead th {\n",
       "        text-align: right;\n",
       "    }\n",
       "</style>\n",
       "<table border=\"1\" class=\"dataframe\">\n",
       "  <thead>\n",
       "    <tr style=\"text-align: right;\">\n",
       "      <th></th>\n",
       "      <th>0</th>\n",
       "      <th>1</th>\n",
       "      <th>2</th>\n",
       "      <th>3</th>\n",
       "      <th>4</th>\n",
       "      <th>5</th>\n",
       "      <th>6</th>\n",
       "      <th>7</th>\n",
       "      <th>8</th>\n",
       "      <th>9</th>\n",
       "      <th>...</th>\n",
       "      <th>55</th>\n",
       "      <th>56</th>\n",
       "      <th>57</th>\n",
       "      <th>58</th>\n",
       "      <th>59</th>\n",
       "      <th>60</th>\n",
       "      <th>61</th>\n",
       "      <th>62</th>\n",
       "      <th>63</th>\n",
       "      <th>target</th>\n",
       "    </tr>\n",
       "  </thead>\n",
       "  <tbody>\n",
       "    <tr>\n",
       "      <th>0</th>\n",
       "      <td>0.0</td>\n",
       "      <td>0.0</td>\n",
       "      <td>5.0</td>\n",
       "      <td>13.0</td>\n",
       "      <td>9.0</td>\n",
       "      <td>1.0</td>\n",
       "      <td>0.0</td>\n",
       "      <td>0.0</td>\n",
       "      <td>0.0</td>\n",
       "      <td>0.0</td>\n",
       "      <td>...</td>\n",
       "      <td>0.0</td>\n",
       "      <td>0.0</td>\n",
       "      <td>0.0</td>\n",
       "      <td>6.0</td>\n",
       "      <td>13.0</td>\n",
       "      <td>10.0</td>\n",
       "      <td>0.0</td>\n",
       "      <td>0.0</td>\n",
       "      <td>0.0</td>\n",
       "      <td>0</td>\n",
       "    </tr>\n",
       "    <tr>\n",
       "      <th>1</th>\n",
       "      <td>0.0</td>\n",
       "      <td>0.0</td>\n",
       "      <td>0.0</td>\n",
       "      <td>12.0</td>\n",
       "      <td>13.0</td>\n",
       "      <td>5.0</td>\n",
       "      <td>0.0</td>\n",
       "      <td>0.0</td>\n",
       "      <td>0.0</td>\n",
       "      <td>0.0</td>\n",
       "      <td>...</td>\n",
       "      <td>0.0</td>\n",
       "      <td>0.0</td>\n",
       "      <td>0.0</td>\n",
       "      <td>0.0</td>\n",
       "      <td>11.0</td>\n",
       "      <td>16.0</td>\n",
       "      <td>10.0</td>\n",
       "      <td>0.0</td>\n",
       "      <td>0.0</td>\n",
       "      <td>1</td>\n",
       "    </tr>\n",
       "    <tr>\n",
       "      <th>2</th>\n",
       "      <td>0.0</td>\n",
       "      <td>0.0</td>\n",
       "      <td>0.0</td>\n",
       "      <td>4.0</td>\n",
       "      <td>15.0</td>\n",
       "      <td>12.0</td>\n",
       "      <td>0.0</td>\n",
       "      <td>0.0</td>\n",
       "      <td>0.0</td>\n",
       "      <td>0.0</td>\n",
       "      <td>...</td>\n",
       "      <td>0.0</td>\n",
       "      <td>0.0</td>\n",
       "      <td>0.0</td>\n",
       "      <td>0.0</td>\n",
       "      <td>3.0</td>\n",
       "      <td>11.0</td>\n",
       "      <td>16.0</td>\n",
       "      <td>9.0</td>\n",
       "      <td>0.0</td>\n",
       "      <td>2</td>\n",
       "    </tr>\n",
       "    <tr>\n",
       "      <th>3</th>\n",
       "      <td>0.0</td>\n",
       "      <td>0.0</td>\n",
       "      <td>7.0</td>\n",
       "      <td>15.0</td>\n",
       "      <td>13.0</td>\n",
       "      <td>1.0</td>\n",
       "      <td>0.0</td>\n",
       "      <td>0.0</td>\n",
       "      <td>0.0</td>\n",
       "      <td>8.0</td>\n",
       "      <td>...</td>\n",
       "      <td>0.0</td>\n",
       "      <td>0.0</td>\n",
       "      <td>0.0</td>\n",
       "      <td>7.0</td>\n",
       "      <td>13.0</td>\n",
       "      <td>13.0</td>\n",
       "      <td>9.0</td>\n",
       "      <td>0.0</td>\n",
       "      <td>0.0</td>\n",
       "      <td>3</td>\n",
       "    </tr>\n",
       "    <tr>\n",
       "      <th>4</th>\n",
       "      <td>0.0</td>\n",
       "      <td>0.0</td>\n",
       "      <td>0.0</td>\n",
       "      <td>1.0</td>\n",
       "      <td>11.0</td>\n",
       "      <td>0.0</td>\n",
       "      <td>0.0</td>\n",
       "      <td>0.0</td>\n",
       "      <td>0.0</td>\n",
       "      <td>0.0</td>\n",
       "      <td>...</td>\n",
       "      <td>0.0</td>\n",
       "      <td>0.0</td>\n",
       "      <td>0.0</td>\n",
       "      <td>0.0</td>\n",
       "      <td>2.0</td>\n",
       "      <td>16.0</td>\n",
       "      <td>4.0</td>\n",
       "      <td>0.0</td>\n",
       "      <td>0.0</td>\n",
       "      <td>4</td>\n",
       "    </tr>\n",
       "    <tr>\n",
       "      <th>5</th>\n",
       "      <td>0.0</td>\n",
       "      <td>0.0</td>\n",
       "      <td>12.0</td>\n",
       "      <td>10.0</td>\n",
       "      <td>0.0</td>\n",
       "      <td>0.0</td>\n",
       "      <td>0.0</td>\n",
       "      <td>0.0</td>\n",
       "      <td>0.0</td>\n",
       "      <td>0.0</td>\n",
       "      <td>...</td>\n",
       "      <td>0.0</td>\n",
       "      <td>0.0</td>\n",
       "      <td>0.0</td>\n",
       "      <td>9.0</td>\n",
       "      <td>16.0</td>\n",
       "      <td>16.0</td>\n",
       "      <td>10.0</td>\n",
       "      <td>0.0</td>\n",
       "      <td>0.0</td>\n",
       "      <td>5</td>\n",
       "    </tr>\n",
       "    <tr>\n",
       "      <th>6</th>\n",
       "      <td>0.0</td>\n",
       "      <td>0.0</td>\n",
       "      <td>0.0</td>\n",
       "      <td>12.0</td>\n",
       "      <td>13.0</td>\n",
       "      <td>0.0</td>\n",
       "      <td>0.0</td>\n",
       "      <td>0.0</td>\n",
       "      <td>0.0</td>\n",
       "      <td>0.0</td>\n",
       "      <td>...</td>\n",
       "      <td>0.0</td>\n",
       "      <td>0.0</td>\n",
       "      <td>0.0</td>\n",
       "      <td>1.0</td>\n",
       "      <td>9.0</td>\n",
       "      <td>15.0</td>\n",
       "      <td>11.0</td>\n",
       "      <td>3.0</td>\n",
       "      <td>0.0</td>\n",
       "      <td>6</td>\n",
       "    </tr>\n",
       "    <tr>\n",
       "      <th>7</th>\n",
       "      <td>0.0</td>\n",
       "      <td>0.0</td>\n",
       "      <td>7.0</td>\n",
       "      <td>8.0</td>\n",
       "      <td>13.0</td>\n",
       "      <td>16.0</td>\n",
       "      <td>15.0</td>\n",
       "      <td>1.0</td>\n",
       "      <td>0.0</td>\n",
       "      <td>0.0</td>\n",
       "      <td>...</td>\n",
       "      <td>0.0</td>\n",
       "      <td>0.0</td>\n",
       "      <td>0.0</td>\n",
       "      <td>13.0</td>\n",
       "      <td>5.0</td>\n",
       "      <td>0.0</td>\n",
       "      <td>0.0</td>\n",
       "      <td>0.0</td>\n",
       "      <td>0.0</td>\n",
       "      <td>7</td>\n",
       "    </tr>\n",
       "    <tr>\n",
       "      <th>8</th>\n",
       "      <td>0.0</td>\n",
       "      <td>0.0</td>\n",
       "      <td>9.0</td>\n",
       "      <td>14.0</td>\n",
       "      <td>8.0</td>\n",
       "      <td>1.0</td>\n",
       "      <td>0.0</td>\n",
       "      <td>0.0</td>\n",
       "      <td>0.0</td>\n",
       "      <td>0.0</td>\n",
       "      <td>...</td>\n",
       "      <td>0.0</td>\n",
       "      <td>0.0</td>\n",
       "      <td>0.0</td>\n",
       "      <td>11.0</td>\n",
       "      <td>16.0</td>\n",
       "      <td>15.0</td>\n",
       "      <td>11.0</td>\n",
       "      <td>1.0</td>\n",
       "      <td>0.0</td>\n",
       "      <td>8</td>\n",
       "    </tr>\n",
       "    <tr>\n",
       "      <th>9</th>\n",
       "      <td>0.0</td>\n",
       "      <td>0.0</td>\n",
       "      <td>11.0</td>\n",
       "      <td>12.0</td>\n",
       "      <td>0.0</td>\n",
       "      <td>0.0</td>\n",
       "      <td>0.0</td>\n",
       "      <td>0.0</td>\n",
       "      <td>0.0</td>\n",
       "      <td>2.0</td>\n",
       "      <td>...</td>\n",
       "      <td>0.0</td>\n",
       "      <td>0.0</td>\n",
       "      <td>0.0</td>\n",
       "      <td>9.0</td>\n",
       "      <td>12.0</td>\n",
       "      <td>13.0</td>\n",
       "      <td>3.0</td>\n",
       "      <td>0.0</td>\n",
       "      <td>0.0</td>\n",
       "      <td>9</td>\n",
       "    </tr>\n",
       "    <tr>\n",
       "      <th>10</th>\n",
       "      <td>0.0</td>\n",
       "      <td>0.0</td>\n",
       "      <td>1.0</td>\n",
       "      <td>9.0</td>\n",
       "      <td>15.0</td>\n",
       "      <td>11.0</td>\n",
       "      <td>0.0</td>\n",
       "      <td>0.0</td>\n",
       "      <td>0.0</td>\n",
       "      <td>0.0</td>\n",
       "      <td>...</td>\n",
       "      <td>0.0</td>\n",
       "      <td>0.0</td>\n",
       "      <td>0.0</td>\n",
       "      <td>1.0</td>\n",
       "      <td>10.0</td>\n",
       "      <td>13.0</td>\n",
       "      <td>3.0</td>\n",
       "      <td>0.0</td>\n",
       "      <td>0.0</td>\n",
       "      <td>0</td>\n",
       "    </tr>\n",
       "    <tr>\n",
       "      <th>11</th>\n",
       "      <td>0.0</td>\n",
       "      <td>0.0</td>\n",
       "      <td>0.0</td>\n",
       "      <td>0.0</td>\n",
       "      <td>14.0</td>\n",
       "      <td>13.0</td>\n",
       "      <td>1.0</td>\n",
       "      <td>0.0</td>\n",
       "      <td>0.0</td>\n",
       "      <td>0.0</td>\n",
       "      <td>...</td>\n",
       "      <td>0.0</td>\n",
       "      <td>0.0</td>\n",
       "      <td>0.0</td>\n",
       "      <td>0.0</td>\n",
       "      <td>1.0</td>\n",
       "      <td>13.0</td>\n",
       "      <td>16.0</td>\n",
       "      <td>1.0</td>\n",
       "      <td>0.0</td>\n",
       "      <td>1</td>\n",
       "    </tr>\n",
       "  </tbody>\n",
       "</table>\n",
       "<p>12 rows × 65 columns</p>\n",
       "</div>"
      ],
      "text/plain": [
       "      0    1     2     3     4     5     6    7    8    9  ...   55   56   57  \\\n",
       "0   0.0  0.0   5.0  13.0   9.0   1.0   0.0  0.0  0.0  0.0  ...  0.0  0.0  0.0   \n",
       "1   0.0  0.0   0.0  12.0  13.0   5.0   0.0  0.0  0.0  0.0  ...  0.0  0.0  0.0   \n",
       "2   0.0  0.0   0.0   4.0  15.0  12.0   0.0  0.0  0.0  0.0  ...  0.0  0.0  0.0   \n",
       "3   0.0  0.0   7.0  15.0  13.0   1.0   0.0  0.0  0.0  8.0  ...  0.0  0.0  0.0   \n",
       "4   0.0  0.0   0.0   1.0  11.0   0.0   0.0  0.0  0.0  0.0  ...  0.0  0.0  0.0   \n",
       "5   0.0  0.0  12.0  10.0   0.0   0.0   0.0  0.0  0.0  0.0  ...  0.0  0.0  0.0   \n",
       "6   0.0  0.0   0.0  12.0  13.0   0.0   0.0  0.0  0.0  0.0  ...  0.0  0.0  0.0   \n",
       "7   0.0  0.0   7.0   8.0  13.0  16.0  15.0  1.0  0.0  0.0  ...  0.0  0.0  0.0   \n",
       "8   0.0  0.0   9.0  14.0   8.0   1.0   0.0  0.0  0.0  0.0  ...  0.0  0.0  0.0   \n",
       "9   0.0  0.0  11.0  12.0   0.0   0.0   0.0  0.0  0.0  2.0  ...  0.0  0.0  0.0   \n",
       "10  0.0  0.0   1.0   9.0  15.0  11.0   0.0  0.0  0.0  0.0  ...  0.0  0.0  0.0   \n",
       "11  0.0  0.0   0.0   0.0  14.0  13.0   1.0  0.0  0.0  0.0  ...  0.0  0.0  0.0   \n",
       "\n",
       "      58    59    60    61   62   63  target  \n",
       "0    6.0  13.0  10.0   0.0  0.0  0.0       0  \n",
       "1    0.0  11.0  16.0  10.0  0.0  0.0       1  \n",
       "2    0.0   3.0  11.0  16.0  9.0  0.0       2  \n",
       "3    7.0  13.0  13.0   9.0  0.0  0.0       3  \n",
       "4    0.0   2.0  16.0   4.0  0.0  0.0       4  \n",
       "5    9.0  16.0  16.0  10.0  0.0  0.0       5  \n",
       "6    1.0   9.0  15.0  11.0  3.0  0.0       6  \n",
       "7   13.0   5.0   0.0   0.0  0.0  0.0       7  \n",
       "8   11.0  16.0  15.0  11.0  1.0  0.0       8  \n",
       "9    9.0  12.0  13.0   3.0  0.0  0.0       9  \n",
       "10   1.0  10.0  13.0   3.0  0.0  0.0       0  \n",
       "11   0.0   1.0  13.0  16.0  1.0  0.0       1  \n",
       "\n",
       "[12 rows x 65 columns]"
      ]
     },
     "execution_count": 7,
     "metadata": {},
     "output_type": "execute_result"
    }
   ],
   "source": [
    "df[0:12]"
   ]
  },
  {
   "cell_type": "code",
   "execution_count": 8,
   "id": "6585bda3-287d-4c8a-b770-6f37d30f8b52",
   "metadata": {},
   "outputs": [],
   "source": [
    "X = df.drop(columns='target')\n",
    "y= df['target']"
   ]
  },
  {
   "cell_type": "code",
   "execution_count": 9,
   "id": "db76f439-467b-4fc3-b549-6ba23036e1ee",
   "metadata": {},
   "outputs": [],
   "source": [
    "from sklearn.model_selection import train_test_split\n",
    "from sklearn.compose import ColumnTransformer\n",
    "from sklearn.pipeline import Pipeline,make_pipeline\n",
    "from sklearn.neighbors import KNeighborsClassifier\n",
    "from sklearn.preprocessing import StandardScaler"
   ]
  },
  {
   "cell_type": "code",
   "execution_count": 10,
   "id": "ef3f0546-097d-4d69-b020-20c670a8320b",
   "metadata": {},
   "outputs": [],
   "source": [
    "from sklearn.model_selection import train_test_split\n",
    "X_train,X_test,y_train,y_test = train_test_split(X,y,test_size=0.2,random_state=0)"
   ]
  },
  {
   "cell_type": "markdown",
   "id": "269d5e98-445f-4ac1-ae6a-9ddb29f7b0f3",
   "metadata": {},
   "source": [
    "# KNN model"
   ]
  },
  {
   "cell_type": "code",
   "execution_count": 11,
   "id": "4986b3b5-cf82-4203-9a6a-501eb2c767e9",
   "metadata": {},
   "outputs": [
    {
     "data": {
      "text/plain": [
       "Pipeline(steps=[('step1', KNeighborsClassifier(n_neighbors=10))])"
      ]
     },
     "execution_count": 11,
     "metadata": {},
     "output_type": "execute_result"
    }
   ],
   "source": [
    "step1 = KNeighborsClassifier(n_neighbors=10)\n",
    "\n",
    "pipe = Pipeline([\n",
    "    ('step1',step1)\n",
    "\n",
    "])\n",
    "\n",
    "pipe.fit(X_train,y_train)\n",
    "\n",
    "# ypred= pipe.predict(X_test)\n",
    "# xpred=pipe.predict(X_train)"
   ]
  },
  {
   "cell_type": "code",
   "execution_count": 12,
   "id": "3b6f505c-5e23-4fe4-9633-cceb4b0e8c73",
   "metadata": {},
   "outputs": [],
   "source": [
    "ypred= pipe.predict(X_test)"
   ]
  },
  {
   "cell_type": "code",
   "execution_count": 13,
   "id": "1e5ec3b5-c3cc-49ee-ba8d-a679eb4ddc48",
   "metadata": {},
   "outputs": [],
   "source": [
    "xpred=pipe.predict(X_train)"
   ]
  },
  {
   "cell_type": "code",
   "execution_count": 14,
   "id": "09de4f49-39fb-449f-bd1a-c9aee96221e4",
   "metadata": {},
   "outputs": [
    {
     "data": {
      "text/plain": [
       "0.9722222222222222"
      ]
     },
     "execution_count": 14,
     "metadata": {},
     "output_type": "execute_result"
    }
   ],
   "source": [
    "pipe.score(X_test,y_test)"
   ]
  },
  {
   "cell_type": "code",
   "execution_count": 17,
   "id": "337db943-36ed-4d33-a40c-59998ff086b3",
   "metadata": {},
   "outputs": [
    {
     "data": {
      "text/plain": [
       "0.9812208624708625"
      ]
     },
     "execution_count": 17,
     "metadata": {},
     "output_type": "execute_result"
    }
   ],
   "source": [
    "from sklearn.model_selection import KFold\n",
    "from sklearn.model_selection import cross_val_score\n",
    "\n",
    "folds = KFold(n_splits=10 , shuffle =True, random_state = 12)\n",
    "scores = cross_val_score(pipe,X_train, y_train,cv=folds).mean()\n",
    "scores"
   ]
  },
  {
   "cell_type": "markdown",
   "id": "f4baead6-3b79-4ef0-9dab-0b3a7fb8973d",
   "metadata": {},
   "source": [
    "# KNN model with gridseacchCV"
   ]
  },
  {
   "cell_type": "code",
   "execution_count": 18,
   "id": "571ba4c6-308f-4872-ac11-2a8255440e33",
   "metadata": {},
   "outputs": [],
   "source": [
    "from sklearn.model_selection import GridSearchCV"
   ]
  },
  {
   "cell_type": "code",
   "execution_count": 19,
   "id": "fcb8f3b5-e012-4191-b901-04dd2cc649ee",
   "metadata": {},
   "outputs": [
    {
     "data": {
      "text/plain": [
       "{'memory': None,\n",
       " 'steps': [('step1', KNeighborsClassifier(n_neighbors=10))],\n",
       " 'verbose': False,\n",
       " 'step1': KNeighborsClassifier(n_neighbors=10),\n",
       " 'step1__algorithm': 'auto',\n",
       " 'step1__leaf_size': 30,\n",
       " 'step1__metric': 'minkowski',\n",
       " 'step1__metric_params': None,\n",
       " 'step1__n_jobs': None,\n",
       " 'step1__n_neighbors': 10,\n",
       " 'step1__p': 2,\n",
       " 'step1__weights': 'uniform'}"
      ]
     },
     "execution_count": 19,
     "metadata": {},
     "output_type": "execute_result"
    }
   ],
   "source": [
    "pipe.get_params()"
   ]
  },
  {
   "cell_type": "code",
   "execution_count": 20,
   "id": "029cbefa-7c18-4b90-9401-f49e18b19096",
   "metadata": {},
   "outputs": [],
   "source": [
    "params = {'n_neighbors' : list(range(1,100)),\n",
    "         'metric': ['euclidean','minkowski']}"
   ]
  },
  {
   "cell_type": "code",
   "execution_count": 21,
   "id": "56e64932-b9ab-4ec2-8b06-bc5768000a6c",
   "metadata": {},
   "outputs": [],
   "source": [
    "grid_search_cv = GridSearchCV(KNeighborsClassifier(),params,cv=10)"
   ]
  },
  {
   "cell_type": "code",
   "execution_count": 22,
   "id": "f2182a2e-f49c-4efd-a693-7c1c1bd61f68",
   "metadata": {},
   "outputs": [
    {
     "data": {
      "text/plain": [
       "GridSearchCV(cv=10, estimator=KNeighborsClassifier(),\n",
       "             param_grid={'metric': ['euclidean', 'minkowski'],\n",
       "                         'n_neighbors': [1, 2, 3, 4, 5, 6, 7, 8, 9, 10, 11, 12,\n",
       "                                         13, 14, 15, 16, 17, 18, 19, 20, 21, 22,\n",
       "                                         23, 24, 25, 26, 27, 28, 29, 30, ...]})"
      ]
     },
     "execution_count": 22,
     "metadata": {},
     "output_type": "execute_result"
    }
   ],
   "source": [
    "grid_search_cv.fit(X_train,y_train)"
   ]
  },
  {
   "cell_type": "code",
   "execution_count": 23,
   "id": "848176e3-6e5a-4e29-87cd-8a969d41425d",
   "metadata": {},
   "outputs": [
    {
     "data": {
      "text/plain": [
       "KNeighborsClassifier(metric='euclidean', n_neighbors=1)"
      ]
     },
     "execution_count": 23,
     "metadata": {},
     "output_type": "execute_result"
    }
   ],
   "source": [
    "grid_search_cv.best_estimator_"
   ]
  },
  {
   "cell_type": "code",
   "execution_count": 24,
   "id": "6bd1b66b-bcac-4742-8472-c6d3f6c8e70d",
   "metadata": {},
   "outputs": [
    {
     "data": {
      "text/plain": [
       "Pipeline(steps=[('step1',\n",
       "                 KNeighborsClassifier(metric='euclidean', n_neighbors=1))])"
      ]
     },
     "execution_count": 24,
     "metadata": {},
     "output_type": "execute_result"
    }
   ],
   "source": [
    "step1 = KNeighborsClassifier(n_neighbors=1,metric='euclidean')\n",
    "\n",
    "pipe = Pipeline([\n",
    "    ('step1',step1)\n",
    "\n",
    "])\n",
    "\n",
    "pipe.fit(X_train,y_train)\n"
   ]
  },
  {
   "cell_type": "code",
   "execution_count": 25,
   "id": "50b1a2cb-85a6-418f-bcc4-2772a9210a58",
   "metadata": {},
   "outputs": [
    {
     "data": {
      "text/plain": [
       "0.9888888888888889"
      ]
     },
     "execution_count": 25,
     "metadata": {},
     "output_type": "execute_result"
    }
   ],
   "source": [
    "pipe.score(X_test,y_test)"
   ]
  },
  {
   "cell_type": "markdown",
   "id": "f944a9cb-d233-4f60-a412-17a9ccd70c27",
   "metadata": {},
   "source": [
    "##  without grid search cv score =  97.22 %\n",
    "##  with grid search cv score = 98.88%"
   ]
  },
  {
   "cell_type": "markdown",
   "id": "6db9a0ae-1108-459c-88da-c50f93473e7e",
   "metadata": {},
   "source": [
    "# Decision Tree model "
   ]
  },
  {
   "cell_type": "code",
   "execution_count": 26,
   "id": "1b669d60-3f36-4085-9b3d-8349167c25bb",
   "metadata": {},
   "outputs": [],
   "source": [
    "from sklearn.tree import DecisionTreeClassifier"
   ]
  },
  {
   "cell_type": "code",
   "execution_count": 27,
   "id": "f5d68b5d-9d58-4fd3-8fe4-c5c579708dc3",
   "metadata": {},
   "outputs": [
    {
     "data": {
      "text/plain": [
       "Pipeline(steps=[('step1',\n",
       "                 DecisionTreeClassifier(criterion='entropy', random_state=0))])"
      ]
     },
     "execution_count": 27,
     "metadata": {},
     "output_type": "execute_result"
    }
   ],
   "source": [
    "step1 = DecisionTreeClassifier(criterion='entropy',random_state=0)\n",
    "\n",
    "pipe = Pipeline([\n",
    "    ('step1',step1)\n",
    "\n",
    "])\n",
    "\n",
    "pipe.fit(X_train,y_train)\n"
   ]
  },
  {
   "cell_type": "code",
   "execution_count": 28,
   "id": "123837f7-332f-4cce-8a0c-315c3f08fcd4",
   "metadata": {},
   "outputs": [],
   "source": [
    "ypred_test = pipe.predict(X_test)"
   ]
  },
  {
   "cell_type": "code",
   "execution_count": 29,
   "id": "5b955d02-486c-49bd-8aa7-0adb827b0c7d",
   "metadata": {},
   "outputs": [],
   "source": [
    "ypred_train = pipe.predict(X_train)"
   ]
  },
  {
   "cell_type": "code",
   "execution_count": 30,
   "id": "75b973b2-f933-4bbb-a7bf-e95c274d96b2",
   "metadata": {},
   "outputs": [],
   "source": [
    "from sklearn.metrics import accuracy_score"
   ]
  },
  {
   "cell_type": "code",
   "execution_count": 31,
   "id": "b985555b-7754-4ab1-a1f1-135f5c1ac1ae",
   "metadata": {},
   "outputs": [
    {
     "data": {
      "text/plain": [
       "0.8527777777777777"
      ]
     },
     "execution_count": 31,
     "metadata": {},
     "output_type": "execute_result"
    }
   ],
   "source": [
    "accuracy_score(y_test,ypred_test)"
   ]
  },
  {
   "cell_type": "code",
   "execution_count": 32,
   "id": "7e06187a-9962-4683-af0e-052f2e7de49c",
   "metadata": {},
   "outputs": [
    {
     "data": {
      "text/plain": [
       "1.0"
      ]
     },
     "execution_count": 32,
     "metadata": {},
     "output_type": "execute_result"
    }
   ],
   "source": [
    "accuracy_score(y_train,ypred_train)"
   ]
  },
  {
   "cell_type": "code",
   "execution_count": 33,
   "id": "974b74f3-db15-4fbf-8652-df0489932d2e",
   "metadata": {},
   "outputs": [
    {
     "data": {
      "text/plain": [
       "0.8594551282051281"
      ]
     },
     "execution_count": 33,
     "metadata": {},
     "output_type": "execute_result"
    }
   ],
   "source": [
    "folds = KFold(n_splits=10 , shuffle =True, random_state = 12)\n",
    "scores = cross_val_score(pipe,X_train, y_train,cv=folds).mean()\n",
    "scores"
   ]
  },
  {
   "cell_type": "markdown",
   "id": "1a9c08ca-575c-45db-b1bf-9c8a15569554",
   "metadata": {},
   "source": [
    "# Descion Tree With  grid search cv"
   ]
  },
  {
   "cell_type": "code",
   "execution_count": 34,
   "id": "fc0ea3ee-e152-4bb5-936f-540886aa3d2f",
   "metadata": {},
   "outputs": [],
   "source": [
    "params = {'criterion' : ['gini','entropy'],\n",
    "          'max_depth' : list(range(1,20)),\n",
    "          'splitter' :['best','random'] }"
   ]
  },
  {
   "cell_type": "code",
   "execution_count": 35,
   "id": "de6ac91c-8335-4d3e-a056-74d6365bb754",
   "metadata": {},
   "outputs": [],
   "source": [
    "grid_search_cv = GridSearchCV(DecisionTreeClassifier(),params,cv=10)"
   ]
  },
  {
   "cell_type": "code",
   "execution_count": 36,
   "id": "f683cbd0-48ab-4a79-88db-a7968b34673e",
   "metadata": {},
   "outputs": [
    {
     "data": {
      "text/plain": [
       "GridSearchCV(cv=10, estimator=DecisionTreeClassifier(),\n",
       "             param_grid={'criterion': ['gini', 'entropy'],\n",
       "                         'max_depth': [1, 2, 3, 4, 5, 6, 7, 8, 9, 10, 11, 12,\n",
       "                                       13, 14, 15, 16, 17, 18, 19],\n",
       "                         'splitter': ['best', 'random']})"
      ]
     },
     "execution_count": 36,
     "metadata": {},
     "output_type": "execute_result"
    }
   ],
   "source": [
    "grid_search_cv.fit(X_train,y_train)\n"
   ]
  },
  {
   "cell_type": "code",
   "execution_count": 37,
   "id": "0d31d9b9-3323-40de-b922-10a46ec3bbb3",
   "metadata": {},
   "outputs": [
    {
     "data": {
      "text/plain": [
       "DecisionTreeClassifier(criterion='entropy', max_depth=19)"
      ]
     },
     "execution_count": 37,
     "metadata": {},
     "output_type": "execute_result"
    }
   ],
   "source": [
    "grid_search_cv.best_estimator_"
   ]
  },
  {
   "cell_type": "code",
   "execution_count": 39,
   "id": "361ef222-9d33-4c87-ab1d-0be3c5301e13",
   "metadata": {},
   "outputs": [
    {
     "data": {
      "text/plain": [
       "Pipeline(steps=[('step1',\n",
       "                 DecisionTreeClassifier(criterion='entropy', max_depth=19))])"
      ]
     },
     "execution_count": 39,
     "metadata": {},
     "output_type": "execute_result"
    }
   ],
   "source": [
    "step1 = DecisionTreeClassifier(criterion='entropy', max_depth=19)\n",
    "\n",
    "pipe = Pipeline([\n",
    "    ('step1',step1)\n",
    "\n",
    "])\n",
    "\n",
    "pipe.fit(X_train,y_train)\n"
   ]
  },
  {
   "cell_type": "code",
   "execution_count": 40,
   "id": "93cbe647-798b-4b08-826a-8ff6229a4375",
   "metadata": {},
   "outputs": [
    {
     "data": {
      "text/plain": [
       "0.8416666666666667"
      ]
     },
     "execution_count": 40,
     "metadata": {},
     "output_type": "execute_result"
    }
   ],
   "source": [
    "pipe.score(X_test,y_test)"
   ]
  },
  {
   "cell_type": "code",
   "execution_count": 41,
   "id": "b0798506-b28b-4a66-9b1d-c19a2681f0ad",
   "metadata": {},
   "outputs": [],
   "source": [
    "ypred_test = pipe.predict(X_test)"
   ]
  },
  {
   "cell_type": "code",
   "execution_count": 42,
   "id": "891a64ef-3248-4d42-9406-eefcbe5b1045",
   "metadata": {},
   "outputs": [],
   "source": [
    "ypred_train = pipe.predict(X_train)"
   ]
  },
  {
   "cell_type": "code",
   "execution_count": 43,
   "id": "30b2e605-ff8c-4332-8941-f25948efd9f8",
   "metadata": {},
   "outputs": [
    {
     "data": {
      "text/plain": [
       "0.8416666666666667"
      ]
     },
     "execution_count": 43,
     "metadata": {},
     "output_type": "execute_result"
    }
   ],
   "source": [
    "accuracy_score(y_test,ypred_test)"
   ]
  },
  {
   "cell_type": "code",
   "execution_count": 44,
   "id": "56b0e361-2e64-4695-9b19-640ed8e9c48c",
   "metadata": {},
   "outputs": [
    {
     "data": {
      "text/plain": [
       "1.0"
      ]
     },
     "execution_count": 44,
     "metadata": {},
     "output_type": "execute_result"
    }
   ],
   "source": [
    "accuracy_score(y_train,ypred_train)"
   ]
  },
  {
   "cell_type": "code",
   "execution_count": 45,
   "id": "07de6f2c-5692-4c12-a2f9-2ab5cf111a9f",
   "metadata": {},
   "outputs": [],
   "source": [
    "from sklearn.metrics import confusion_matrix\n",
    "from sklearn.metrics import accuracy_score"
   ]
  },
  {
   "cell_type": "code",
   "execution_count": 46,
   "id": "00c71412-60aa-4299-a5ec-111837d3459c",
   "metadata": {},
   "outputs": [
    {
     "data": {
      "text/plain": [
       "array([[24,  0,  0,  2,  1,  0,  0,  0,  0,  0],\n",
       "       [ 0, 29,  0,  0,  3,  0,  1,  1,  1,  0],\n",
       "       [ 1,  1, 26,  2,  0,  0,  0,  1,  2,  3],\n",
       "       [ 0,  1,  1, 25,  0,  1,  0,  0,  1,  0],\n",
       "       [ 1,  0,  0,  0, 26,  0,  0,  2,  1,  0],\n",
       "       [ 0,  1,  1,  0,  1, 33,  0,  0,  2,  2],\n",
       "       [ 0,  0,  1,  0,  0,  0, 41,  0,  2,  0],\n",
       "       [ 0,  1,  0,  3,  0,  0,  0, 35,  0,  0],\n",
       "       [ 0,  1,  0,  1,  0,  0,  0,  1, 34,  2],\n",
       "       [ 0,  1,  1,  4,  0,  2,  0,  0,  3, 30]], dtype=int64)"
      ]
     },
     "execution_count": 46,
     "metadata": {},
     "output_type": "execute_result"
    }
   ],
   "source": [
    "cm= confusion_matrix(y_test,ypred_test)\n",
    "cm"
   ]
  },
  {
   "cell_type": "code",
   "execution_count": 47,
   "id": "df13474a-6ca5-449b-b1e8-771ad607a148",
   "metadata": {},
   "outputs": [
    {
     "name": "stdout",
     "output_type": "stream",
     "text": [
      "              precision    recall  f1-score   support\n",
      "\n",
      "           0       0.92      0.89      0.91        27\n",
      "           1       0.83      0.83      0.83        35\n",
      "           2       0.87      0.72      0.79        36\n",
      "           3       0.68      0.86      0.76        29\n",
      "           4       0.84      0.87      0.85        30\n",
      "           5       0.92      0.82      0.87        40\n",
      "           6       0.98      0.93      0.95        44\n",
      "           7       0.88      0.90      0.89        39\n",
      "           8       0.74      0.87      0.80        39\n",
      "           9       0.81      0.73      0.77        41\n",
      "\n",
      "    accuracy                           0.84       360\n",
      "   macro avg       0.85      0.84      0.84       360\n",
      "weighted avg       0.85      0.84      0.84       360\n",
      "\n"
     ]
    }
   ],
   "source": [
    "from sklearn import metrics\n",
    "print(metrics.classification_report(y_test,ypred_test))"
   ]
  },
  {
   "cell_type": "code",
   "execution_count": 48,
   "id": "f72cc66f-5e54-4d4c-a6e8-881bd423d69a",
   "metadata": {},
   "outputs": [
    {
     "name": "stdout",
     "output_type": "stream",
     "text": [
      "precision_score weight 0.8491453879418466\n",
      "precision_score macro 0.8450498759860612\n"
     ]
    }
   ],
   "source": [
    "from sklearn.metrics import precision_score\n",
    "pr_sc_we=precision_score(y_test,ypred_test,average='weighted')\n",
    "pr_sc_mac=precision_score(y_test,ypred_test,average='macro')\n",
    "print('precision_score weight',pr_sc_we)\n",
    "print('precision_score macro',pr_sc_mac)"
   ]
  },
  {
   "cell_type": "code",
   "execution_count": 49,
   "id": "d8368ed4-8ed1-4708-af17-1ef1fb1ae10c",
   "metadata": {},
   "outputs": [
    {
     "name": "stdout",
     "output_type": "stream",
     "text": [
      "recall weight 0.8416666666666667\n",
      "recall macro 0.842617443998857\n"
     ]
    }
   ],
   "source": [
    "from sklearn.metrics import recall_score\n",
    "rc_sc_we = recall_score(y_test,ypred_test,average='weighted')\n",
    "rc_sc_ma= recall_score(y_test,ypred_test,average='macro')\n",
    "print('recall weight',rc_sc_we)\n",
    "print('recall macro',rc_sc_ma)"
   ]
  },
  {
   "cell_type": "code",
   "execution_count": 50,
   "id": "debd0322-548f-4c9d-9ec8-0ef25379546e",
   "metadata": {},
   "outputs": [
    {
     "name": "stdout",
     "output_type": "stream",
     "text": [
      "f1_score weight 0.8426269112637502\n",
      "f1_score macro 0.8409361511100368\n"
     ]
    }
   ],
   "source": [
    "from sklearn.metrics import f1_score\n",
    "f1_sc_we = f1_score(y_test,ypred_test,average='weighted')\n",
    "f1_sc_ma= f1_score(y_test,ypred_test,average='macro')\n",
    "print('f1_score weight',f1_sc_we)\n",
    "print('f1_score macro',f1_sc_ma)"
   ]
  },
  {
   "cell_type": "code",
   "execution_count": 51,
   "id": "4c6f2dc1-28f4-4b09-9dc3-3c582ed59cfc",
   "metadata": {},
   "outputs": [],
   "source": [
    "# Random GridSearch Cv"
   ]
  },
  {
   "cell_type": "code",
   "execution_count": 52,
   "id": "14fd421e-3076-4ac2-8d0a-9074b68ea35d",
   "metadata": {},
   "outputs": [],
   "source": [
    "params = {'criterion' : ['gini','entropy'],\n",
    "          'max_leaf_nodes' : list(range(2,20)),\n",
    "          'min_samples_split' : [2,3,4],\n",
    "          'max_depth' : list(range(1,20)),\n",
    "          'splitter' :['best','random'],\n",
    "          'random_state' :list(range(2,20)) }"
   ]
  },
  {
   "cell_type": "code",
   "execution_count": 53,
   "id": "9392c4b5-024a-433b-b932-ef6bb66ae75a",
   "metadata": {},
   "outputs": [],
   "source": [
    "from sklearn.model_selection import RandomizedSearchCV"
   ]
  },
  {
   "cell_type": "code",
   "execution_count": 54,
   "id": "e62faebb-e59b-49fa-bf1a-bca6cb9f6826",
   "metadata": {},
   "outputs": [],
   "source": [
    "random_grid_cv = RandomizedSearchCV(DecisionTreeClassifier(),params,cv=10)"
   ]
  },
  {
   "cell_type": "code",
   "execution_count": 55,
   "id": "4563dd84-75a8-41d4-9a62-31d4bdd6386c",
   "metadata": {},
   "outputs": [
    {
     "data": {
      "text/plain": [
       "RandomizedSearchCV(cv=10, estimator=DecisionTreeClassifier(),\n",
       "                   param_distributions={'criterion': ['gini', 'entropy'],\n",
       "                                        'max_depth': [1, 2, 3, 4, 5, 6, 7, 8, 9,\n",
       "                                                      10, 11, 12, 13, 14, 15,\n",
       "                                                      16, 17, 18, 19],\n",
       "                                        'max_leaf_nodes': [2, 3, 4, 5, 6, 7, 8,\n",
       "                                                           9, 10, 11, 12, 13,\n",
       "                                                           14, 15, 16, 17, 18,\n",
       "                                                           19],\n",
       "                                        'min_samples_split': [2, 3, 4],\n",
       "                                        'random_state': [2, 3, 4, 5, 6, 7, 8, 9,\n",
       "                                                         10, 11, 12, 13, 14, 15,\n",
       "                                                         16, 17, 18, 19],\n",
       "                                        'splitter': ['best', 'random']})"
      ]
     },
     "execution_count": 55,
     "metadata": {},
     "output_type": "execute_result"
    }
   ],
   "source": [
    "random_grid_cv.fit(X_train,y_train)"
   ]
  },
  {
   "cell_type": "code",
   "execution_count": 56,
   "id": "e5145110-b646-48d1-9cb8-1450c78a9f78",
   "metadata": {},
   "outputs": [
    {
     "data": {
      "text/plain": [
       "DecisionTreeClassifier(max_depth=17, max_leaf_nodes=14, random_state=3)"
      ]
     },
     "execution_count": 56,
     "metadata": {},
     "output_type": "execute_result"
    }
   ],
   "source": [
    "random_grid_cv.best_estimator_"
   ]
  },
  {
   "cell_type": "code",
   "execution_count": 57,
   "id": "0777bfe3-b458-47d6-8e80-59b655a260fc",
   "metadata": {},
   "outputs": [
    {
     "data": {
      "text/plain": [
       "Pipeline(steps=[('step1',\n",
       "                 DecisionTreeClassifier(max_depth=11, max_leaf_nodes=17,\n",
       "                                        min_samples_split=3,\n",
       "                                        random_state=12))])"
      ]
     },
     "execution_count": 57,
     "metadata": {},
     "output_type": "execute_result"
    }
   ],
   "source": [
    "step1 = DecisionTreeClassifier(max_depth=11, max_leaf_nodes=17, min_samples_split=3,random_state=12)\n",
    "\n",
    "pipe = Pipeline([\n",
    "    ('step1',step1)\n",
    "\n",
    "])\n",
    "\n",
    "pipe.fit(X_train,y_train)\n"
   ]
  },
  {
   "cell_type": "code",
   "execution_count": 58,
   "id": "daddbca2-3cb4-45b2-9fc1-a4fb8d8800c9",
   "metadata": {},
   "outputs": [],
   "source": [
    "ypred_test = pipe.predict(X_test)"
   ]
  },
  {
   "cell_type": "code",
   "execution_count": 59,
   "id": "62f3fc05-157c-4e38-b4c4-fe07c2b7ea6f",
   "metadata": {},
   "outputs": [],
   "source": [
    "ypred_train = pipe.predict(X_train)"
   ]
  },
  {
   "cell_type": "code",
   "execution_count": 60,
   "id": "de8d22f5-5726-4323-bfd3-db73f1c688f1",
   "metadata": {},
   "outputs": [
    {
     "data": {
      "text/plain": [
       "0.7388888888888889"
      ]
     },
     "execution_count": 60,
     "metadata": {},
     "output_type": "execute_result"
    }
   ],
   "source": [
    "accuracy_score(y_test,ypred_test)"
   ]
  },
  {
   "cell_type": "code",
   "execution_count": 61,
   "id": "24b91346-b674-4cc5-b4e2-05195cbbd302",
   "metadata": {},
   "outputs": [
    {
     "data": {
      "text/plain": [
       "0.8037578288100209"
      ]
     },
     "execution_count": 61,
     "metadata": {},
     "output_type": "execute_result"
    }
   ],
   "source": [
    "accuracy_score(y_train,ypred_train)"
   ]
  },
  {
   "cell_type": "markdown",
   "id": "3661bc50-a74b-46c2-9145-f9977f5dc956",
   "metadata": {},
   "source": [
    "## Accuracy score without gridsearch cv 84%\n",
    "## Accuracy score with gridsearch cv 73%"
   ]
  },
  {
   "cell_type": "markdown",
   "id": "8d1c50d1-bedb-4939-af15-3a326b68045d",
   "metadata": {},
   "source": [
    "# Random Forest"
   ]
  },
  {
   "cell_type": "code",
   "execution_count": 62,
   "id": "9fda2f22-275c-474b-9ca0-5a5094fe784c",
   "metadata": {},
   "outputs": [],
   "source": [
    "from sklearn.ensemble import RandomForestClassifier"
   ]
  },
  {
   "cell_type": "code",
   "execution_count": 63,
   "id": "710fce11-5a8d-484a-a1c1-2246b880be89",
   "metadata": {},
   "outputs": [
    {
     "data": {
      "text/plain": [
       "Pipeline(steps=[('step1', RandomForestClassifier(n_estimators=20))])"
      ]
     },
     "execution_count": 63,
     "metadata": {},
     "output_type": "execute_result"
    }
   ],
   "source": [
    "step1 = RandomForestClassifier(n_estimators=20)\n",
    "\n",
    "pipe = Pipeline([\n",
    "    ('step1',step1)\n",
    "\n",
    "])\n",
    "\n",
    "pipe.fit(X_train,y_train)"
   ]
  },
  {
   "cell_type": "code",
   "execution_count": 64,
   "id": "86829c28-34d7-4ae0-8712-72cc21641d70",
   "metadata": {},
   "outputs": [
    {
     "data": {
      "text/plain": [
       "0.9555555555555556"
      ]
     },
     "execution_count": 64,
     "metadata": {},
     "output_type": "execute_result"
    }
   ],
   "source": [
    "pipe.score(X_test,y_test)"
   ]
  },
  {
   "cell_type": "code",
   "execution_count": 65,
   "id": "ab8650db-d49f-4bf1-b114-b4b69b32f426",
   "metadata": {},
   "outputs": [],
   "source": [
    "ypred_test = pipe.predict(X_test)"
   ]
  },
  {
   "cell_type": "code",
   "execution_count": 66,
   "id": "2d55e142-12b4-4bd8-992b-f4083285c857",
   "metadata": {},
   "outputs": [],
   "source": [
    "ypred_train = pipe.predict(X_train)"
   ]
  },
  {
   "cell_type": "code",
   "execution_count": 67,
   "id": "026691ea-ab64-4cc6-80f3-1617eefad01e",
   "metadata": {},
   "outputs": [
    {
     "data": {
      "text/plain": [
       "0.9555555555555556"
      ]
     },
     "execution_count": 67,
     "metadata": {},
     "output_type": "execute_result"
    }
   ],
   "source": [
    "accuracy_score(y_test,ypred_test)"
   ]
  },
  {
   "cell_type": "code",
   "execution_count": 68,
   "id": "0364ddc8-d7ab-4cb0-aac7-7fe338c7072d",
   "metadata": {},
   "outputs": [
    {
     "data": {
      "text/plain": [
       "1.0"
      ]
     },
     "execution_count": 68,
     "metadata": {},
     "output_type": "execute_result"
    }
   ],
   "source": [
    "accuracy_score(y_train,ypred_train)"
   ]
  },
  {
   "cell_type": "code",
   "execution_count": 69,
   "id": "0d5ae357-5a09-4e4b-b9e7-a113c8dbc5c2",
   "metadata": {},
   "outputs": [
    {
     "data": {
      "text/plain": [
       "array([[27,  0,  0,  0,  0,  0,  0,  0,  0,  0],\n",
       "       [ 0, 34,  0,  0,  0,  0,  1,  0,  0,  0],\n",
       "       [ 1,  1, 34,  0,  0,  0,  0,  0,  0,  0],\n",
       "       [ 0,  0,  0, 29,  0,  0,  0,  0,  0,  0],\n",
       "       [ 0,  0,  0,  0, 29,  0,  0,  1,  0,  0],\n",
       "       [ 0,  0,  0,  1,  1, 37,  0,  0,  0,  1],\n",
       "       [ 0,  0,  1,  0,  0,  0, 43,  0,  0,  0],\n",
       "       [ 0,  1,  0,  0,  0,  0,  0, 38,  0,  0],\n",
       "       [ 0,  2,  0,  1,  0,  0,  0,  0, 36,  0],\n",
       "       [ 0,  1,  0,  1,  0,  2,  0,  0,  0, 37]], dtype=int64)"
      ]
     },
     "execution_count": 69,
     "metadata": {},
     "output_type": "execute_result"
    }
   ],
   "source": [
    "cm= confusion_matrix(y_test,ypred_test)\n",
    "cm"
   ]
  },
  {
   "cell_type": "code",
   "execution_count": 70,
   "id": "4257be4b-c42f-49e9-b060-d1b01d94c410",
   "metadata": {},
   "outputs": [
    {
     "name": "stdout",
     "output_type": "stream",
     "text": [
      "              precision    recall  f1-score   support\n",
      "\n",
      "           0       0.96      1.00      0.98        27\n",
      "           1       0.87      0.97      0.92        35\n",
      "           2       0.97      0.94      0.96        36\n",
      "           3       0.91      1.00      0.95        29\n",
      "           4       0.97      0.97      0.97        30\n",
      "           5       0.95      0.93      0.94        40\n",
      "           6       0.98      0.98      0.98        44\n",
      "           7       0.97      0.97      0.97        39\n",
      "           8       1.00      0.92      0.96        39\n",
      "           9       0.97      0.90      0.94        41\n",
      "\n",
      "    accuracy                           0.96       360\n",
      "   macro avg       0.96      0.96      0.96       360\n",
      "weighted avg       0.96      0.96      0.96       360\n",
      "\n"
     ]
    }
   ],
   "source": [
    "print(metrics.classification_report(y_test,ypred_test))"
   ]
  },
  {
   "cell_type": "code",
   "execution_count": 71,
   "id": "f92d5ccf-0ee8-4b2d-882b-3d0a415643a4",
   "metadata": {},
   "outputs": [
    {
     "name": "stdout",
     "output_type": "stream",
     "text": [
      "precision_score weight 0.9574193998618341\n",
      "precision_score macro 0.9554459685051789\n"
     ]
    }
   ],
   "source": [
    "pr_sc_we=precision_score(y_test,ypred_test,average='weighted')\n",
    "pr_sc_mac=precision_score(y_test,ypred_test,average='macro')\n",
    "print('precision_score weight',pr_sc_we)\n",
    "print('precision_score macro',pr_sc_mac)"
   ]
  },
  {
   "cell_type": "code",
   "execution_count": 72,
   "id": "57636e05-0b78-4888-ab4b-ca765a6afaef",
   "metadata": {},
   "outputs": [
    {
     "name": "stdout",
     "output_type": "stream",
     "text": [
      "recall weight 0.9555555555555556\n",
      "recall macro 0.9584687331638552\n"
     ]
    }
   ],
   "source": [
    "rc_sc_we = recall_score(y_test,ypred_test,average='weighted')\n",
    "rc_sc_ma= recall_score(y_test,ypred_test,average='macro')\n",
    "print('recall weight',rc_sc_we)\n",
    "print('recall macro',rc_sc_ma)"
   ]
  },
  {
   "cell_type": "code",
   "execution_count": 73,
   "id": "7f29cba8-f039-4998-a7c6-1bb89fac5639",
   "metadata": {},
   "outputs": [
    {
     "name": "stdout",
     "output_type": "stream",
     "text": [
      "f1_score weight 0.9556592070111443\n",
      "f1_score macro 0.9561019341558843\n"
     ]
    }
   ],
   "source": [
    "f1_sc_we = f1_score(y_test,ypred_test,average='weighted')\n",
    "f1_sc_ma= f1_score(y_test,ypred_test,average='macro')\n",
    "print('f1_score weight',f1_sc_we)\n",
    "print('f1_score macro',f1_sc_ma)"
   ]
  },
  {
   "cell_type": "code",
   "execution_count": 74,
   "id": "1e4e67c1-7c99-4c55-bde8-ac2dfaf05de3",
   "metadata": {},
   "outputs": [],
   "source": [
    "params = {'criterion' : ['gini','entropy'],\n",
    "          'n_estimators' : list(range(100,200)),\n",
    "          'max_depth' : list(range(0,20)),\n",
    "          'min_samples_split':list(range(2,20)) }"
   ]
  },
  {
   "cell_type": "code",
   "execution_count": null,
   "id": "3331a391-0d71-4969-800a-3d37d882de94",
   "metadata": {},
   "outputs": [],
   "source": [
    "grid_search_cv = GridSearchCV(RandomForestClassifier(),params,cv=10)"
   ]
  },
  {
   "cell_type": "code",
   "execution_count": null,
   "id": "39843137-97f4-434b-9991-9e010e7a41d0",
   "metadata": {},
   "outputs": [],
   "source": [
    "# grid_search_cv.fit(X_train,y_train)"
   ]
  },
  {
   "cell_type": "markdown",
   "id": "ce20cccc-c232-4a5d-bd79-4292c7e0a04d",
   "metadata": {},
   "source": [
    "## random search without gridsearch cv score 94%"
   ]
  },
  {
   "cell_type": "markdown",
   "id": "9d973a65-edff-49a7-a7d7-f4cbe764d8ea",
   "metadata": {},
   "source": [
    "# BEST MODEL FOR THIS DATASET IS KNN WITH 96% accuracy score"
   ]
  },
  {
   "cell_type": "code",
   "execution_count": null,
   "id": "b62337e7-b4b6-44d8-a036-54644d47fa9e",
   "metadata": {},
   "outputs": [],
   "source": []
  }
 ],
 "metadata": {
  "kernelspec": {
   "display_name": "Python 3 (ipykernel)",
   "language": "python",
   "name": "python3"
  },
  "language_info": {
   "codemirror_mode": {
    "name": "ipython",
    "version": 3
   },
   "file_extension": ".py",
   "mimetype": "text/x-python",
   "name": "python",
   "nbconvert_exporter": "python",
   "pygments_lexer": "ipython3",
   "version": "3.10.9"
  }
 },
 "nbformat": 4,
 "nbformat_minor": 5
}
